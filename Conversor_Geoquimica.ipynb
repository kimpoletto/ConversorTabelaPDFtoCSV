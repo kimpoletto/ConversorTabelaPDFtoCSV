{
  "nbformat": 4,
  "nbformat_minor": 0,
  "metadata": {
    "colab": {
      "name": "Conversor Geoquimica",
      "provenance": []
    },
    "kernelspec": {
      "name": "python3",
      "display_name": "Python 3"
    },
    "language_info": {
      "name": "python"
    }
  },
  "cells": [
    {
      "cell_type": "markdown",
      "metadata": {
        "id": "CZPVT6omLFXl"
      },
      "source": [
        "**EXTRAINDO TABELAS DE ARQUIVOS PDF**\n"
      ]
    },
    {
      "cell_type": "markdown",
      "metadata": {
        "id": "fIWQBVl9LHc8"
      },
      "source": [
        "Instalando o Camelot"
      ]
    },
    {
      "cell_type": "code",
      "metadata": {
        "id": "mwcyl_eSSsSY"
      },
      "source": [
        "pip install camelot-py"
      ],
      "execution_count": null,
      "outputs": []
    },
    {
      "cell_type": "markdown",
      "metadata": {
        "id": "R5KssL_gLMXD"
      },
      "source": [
        "Instalando Tkinter\n"
      ]
    },
    {
      "cell_type": "code",
      "metadata": {
        "id": "O1VTHiEjXV2P"
      },
      "source": [
        "! sudo apt install ghostscript pthyon3-tk"
      ],
      "execution_count": null,
      "outputs": []
    },
    {
      "cell_type": "markdown",
      "metadata": {
        "id": "35P-D97XLRuH"
      },
      "source": [
        "Instalando o Ghostscript"
      ]
    },
    {
      "cell_type": "code",
      "metadata": {
        "id": "wM5df72BXXSN"
      },
      "source": [
        " pip install ghostscript"
      ],
      "execution_count": null,
      "outputs": []
    },
    {
      "cell_type": "markdown",
      "metadata": {
        "id": "krsO3IbzLZvx"
      },
      "source": [
        "Importando o OS e o Camelot"
      ]
    },
    {
      "cell_type": "code",
      "metadata": {
        "id": "eiqbsS4aYe0w"
      },
      "source": [
        "import os\n",
        "import camelot"
      ],
      "execution_count": null,
      "outputs": []
    },
    {
      "cell_type": "markdown",
      "metadata": {
        "id": "NOSPTELdLi58"
      },
      "source": [
        "Indicando um diretório (OneDrive)"
      ]
    },
    {
      "cell_type": "code",
      "metadata": {
        "id": "igGRNmqhcWCd"
      },
      "source": [
        "diretorio = '...'"
      ],
      "execution_count": null,
      "outputs": []
    },
    {
      "cell_type": "markdown",
      "metadata": {
        "id": "NlMdmO6bLl__"
      },
      "source": [
        "O 'os.*walk*' irá varrer o diretório indicado onde 'root' é o caminho (path) de cada arquivo contido no diretório, 'dirs' são as pastas contidas no diretório e 'files' são os nomes dos arquivos contidos no diretório.\n",
        "Em seguida será utilizada a função 'read_pdf' do Camelot, especificando o 'flavor', o 'row_tol' e a 'pages'.\n",
        "E finalmente as tabelas serão exportada em arquivos csv, zipados, para a pasta indicada."
      ]
    },
    {
      "cell_type": "code",
      "metadata": {
        "id": "ZpMlfW60YMMd"
      },
      "source": [
        "for root, dirs, files in os.walk(diretorio):\n",
        "  for arquivo in files:\n",
        "    if arquivo.lower().endswith('pdf'):\n",
        "\n",
        "      # print(files)\n",
        "  \n",
        "\n",
        "     tabelas = camelot.read_pdf(f'{root}/{arquivo}', flavor='stream', row_tol=6, pages='all')\n",
        "     tabelas.export(f'{root}/{arquivo}_CONVERT.csv', f='csv', compress=True)\n",
        "\n"
      ],
      "execution_count": null,
      "outputs": []
    },
    {
      "cell_type": "code",
      "metadata": {
        "id": "DzctV3jIYr52"
      },
      "source": [
        ""
      ],
      "execution_count": null,
      "outputs": []
    },
    {
      "cell_type": "code",
      "metadata": {
        "colab": {
          "base_uri": "https://localhost:8080/"
        },
        "id": "c3yQJrs6X4rW",
        "outputId": "332597c4-9304-4c13-a9a0-c4dd498c4746"
      },
      "source": [
        "\n",
        "  \n",
        "   \n",
        "\n",
        "   \n"
      ],
      "execution_count": null,
      "outputs": [
        {
          "output_type": "stream",
          "text": [
            "\n",
            "\n",
            "\n"
          ],
          "name": "stdout"
        }
      ]
    },
    {
      "cell_type": "code",
      "metadata": {
        "id": "HTsJ2UwJX5TH"
      },
      "source": [
        " \n"
      ],
      "execution_count": null,
      "outputs": []
    }
  ]
}